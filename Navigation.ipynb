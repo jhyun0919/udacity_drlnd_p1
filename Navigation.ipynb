{
 "cells": [
  {
   "cell_type": "markdown",
   "metadata": {},
   "source": [
    "# Navigation\n",
    "\n",
    "---\n",
    "\n",
    "In this notebook, you will learn how to use the Unity ML-Agents environment for the first project of the [Deep Reinforcement Learning Nanodegree](https://www.udacity.com/course/deep-reinforcement-learning-nanodegree--nd893).\n",
    "\n",
    "### 1. Start the Environment\n",
    "\n",
    "We begin by importing some necessary packages.  If the code cell below returns an error, please revisit the project instructions to double-check that you have installed [Unity ML-Agents](https://github.com/Unity-Technologies/ml-agents/blob/master/docs/Installation.md) and [NumPy](http://www.numpy.org/)."
   ]
  },
  {
   "cell_type": "code",
   "execution_count": 1,
   "metadata": {
    "ExecuteTime": {
     "end_time": "2019-03-18T07:41:30.401921Z",
     "start_time": "2019-03-18T07:41:29.794331Z"
    }
   },
   "outputs": [],
   "source": [
    "from unityagents import UnityEnvironment\n",
    "import numpy as np"
   ]
  },
  {
   "cell_type": "markdown",
   "metadata": {},
   "source": [
    "Next, we will start the environment!  **_Before running the code cell below_**, change the `file_name` parameter to match the location of the Unity environment that you downloaded.\n",
    "\n",
    "- **Mac**: `\"path/to/Banana.app\"`\n",
    "- **Windows** (x86): `\"path/to/Banana_Windows_x86/Banana.exe\"`\n",
    "- **Windows** (x86_64): `\"path/to/Banana_Windows_x86_64/Banana.exe\"`\n",
    "- **Linux** (x86): `\"path/to/Banana_Linux/Banana.x86\"`\n",
    "- **Linux** (x86_64): `\"path/to/Banana_Linux/Banana.x86_64\"`\n",
    "- **Linux** (x86, headless): `\"path/to/Banana_Linux_NoVis/Banana.x86\"`\n",
    "- **Linux** (x86_64, headless): `\"path/to/Banana_Linux_NoVis/Banana.x86_64\"`\n",
    "\n",
    "For instance, if you are using a Mac, then you downloaded `Banana.app`.  If this file is in the same folder as the notebook, then the line below should appear as follows:\n",
    "```\n",
    "env = UnityEnvironment(file_name=\"Banana.app\")\n",
    "```"
   ]
  },
  {
   "cell_type": "code",
   "execution_count": 2,
   "metadata": {
    "ExecuteTime": {
     "end_time": "2019-03-18T07:41:40.394225Z",
     "start_time": "2019-03-18T07:41:30.405714Z"
    }
   },
   "outputs": [
    {
     "name": "stderr",
     "output_type": "stream",
     "text": [
      "INFO:unityagents:\n",
      "'Academy' started successfully!\n",
      "Unity Academy name: Academy\n",
      "        Number of Brains: 1\n",
      "        Number of External Brains : 1\n",
      "        Lesson number : 0\n",
      "        Reset Parameters :\n",
      "\t\t\n",
      "Unity brain name: BananaBrain\n",
      "        Number of Visual Observations (per agent): 0\n",
      "        Vector Observation space type: continuous\n",
      "        Vector Observation space size (per agent): 37\n",
      "        Number of stacked Vector Observation: 1\n",
      "        Vector Action space type: discrete\n",
      "        Vector Action space size (per agent): 4\n",
      "        Vector Action descriptions: , , , \n"
     ]
    }
   ],
   "source": [
    "env = UnityEnvironment(file_name=\"./Banana_Linux_NoVis/Banana.x86\")"
   ]
  },
  {
   "cell_type": "markdown",
   "metadata": {},
   "source": [
    "Environments contain **_brains_** which are responsible for deciding the actions of their associated agents. Here we check for the first brain available, and set it as the default brain we will be controlling from Python."
   ]
  },
  {
   "cell_type": "code",
   "execution_count": 3,
   "metadata": {
    "ExecuteTime": {
     "end_time": "2019-03-18T07:41:40.400184Z",
     "start_time": "2019-03-18T07:41:40.396865Z"
    }
   },
   "outputs": [],
   "source": [
    "# get the default brain\n",
    "brain_name = env.brain_names[0]\n",
    "brain = env.brains[brain_name]"
   ]
  },
  {
   "cell_type": "markdown",
   "metadata": {},
   "source": [
    "### 2. Examine the State and Action Spaces\n",
    "\n",
    "The simulation contains a single agent that navigates a large environment.  At each time step, it has four actions at its disposal:\n",
    "- `0` - walk forward \n",
    "- `1` - walk backward\n",
    "- `2` - turn left\n",
    "- `3` - turn right\n",
    "\n",
    "The state space has `37` dimensions and contains the agent's velocity, along with ray-based perception of objects around agent's forward direction.  A reward of `+1` is provided for collecting a yellow banana, and a reward of `-1` is provided for collecting a blue banana. \n",
    "\n",
    "Run the code cell below to print some information about the environment."
   ]
  },
  {
   "cell_type": "code",
   "execution_count": 4,
   "metadata": {
    "ExecuteTime": {
     "end_time": "2019-03-18T07:41:40.771365Z",
     "start_time": "2019-03-18T07:41:40.403483Z"
    }
   },
   "outputs": [
    {
     "name": "stdout",
     "output_type": "stream",
     "text": [
      "Number of agents: 1\n",
      "Number of actions: 4\n",
      "States look like: [1.         0.         0.         0.         0.84408134 0.\n",
      " 0.         1.         0.         0.0748472  0.         1.\n",
      " 0.         0.         0.25755    1.         0.         0.\n",
      " 0.         0.74177343 0.         1.         0.         0.\n",
      " 0.25854847 0.         0.         1.         0.         0.09355672\n",
      " 0.         1.         0.         0.         0.31969345 0.\n",
      " 0.        ]\n",
      "States have length: 37\n"
     ]
    }
   ],
   "source": [
    "# reset the environment\n",
    "env_info = env.reset(train_mode=True)[brain_name]\n",
    "\n",
    "# number of agents in the environment\n",
    "print('Number of agents:', len(env_info.agents))\n",
    "\n",
    "# number of actions\n",
    "action_size = brain.vector_action_space_size\n",
    "print('Number of actions:', action_size)\n",
    "\n",
    "# examine the state space \n",
    "state = env_info.vector_observations[0]\n",
    "print('States look like:', state)\n",
    "state_size = len(state)\n",
    "print('States have length:', state_size)"
   ]
  },
  {
   "cell_type": "markdown",
   "metadata": {},
   "source": [
    "### 3. Take Random Actions in the Environment\n",
    "\n",
    "In the next code cell, you will learn how to use the Python API to control the agent and receive feedback from the environment.\n",
    "\n",
    "Once this cell is executed, you will watch the agent's performance, if it selects an action (uniformly) at random with each time step.  A window should pop up that allows you to observe the agent, as it moves through the environment.  \n",
    "\n",
    "Of course, as part of the project, you'll have to change the code so that the agent is able to use its experience to gradually choose better actions when interacting with the environment!"
   ]
  },
  {
   "cell_type": "code",
   "execution_count": 5,
   "metadata": {
    "ExecuteTime": {
     "end_time": "2019-03-18T07:41:40.778975Z",
     "start_time": "2019-03-18T07:41:40.776166Z"
    }
   },
   "outputs": [],
   "source": [
    "# env_info = env.reset(train_mode=False)[brain_name] # reset the environment\n",
    "# state = env_info.vector_observations[0]            # get the current state\n",
    "# score = 0                                          # initialize the score\n",
    "# while True:\n",
    "#     action = np.random.randint(action_size)        # select an action\n",
    "#     env_info = env.step(action)[brain_name]        # send the action to the environment\n",
    "#     next_state = env_info.vector_observations[0]   # get the next state\n",
    "#     reward = env_info.rewards[0]                   # get the reward\n",
    "#     done = env_info.local_done[0]                  # see if episode has finished\n",
    "#     score += reward                                # update the score\n",
    "#     state = next_state                             # roll over the state to next time step\n",
    "#     if done:                                       # exit loop if episode finished\n",
    "#         break\n",
    "    \n",
    "# print(\"Score: {}\".format(score))"
   ]
  },
  {
   "cell_type": "markdown",
   "metadata": {},
   "source": [
    "When finished, you can close the environment."
   ]
  },
  {
   "cell_type": "code",
   "execution_count": 6,
   "metadata": {
    "ExecuteTime": {
     "end_time": "2019-03-18T07:41:40.888113Z",
     "start_time": "2019-03-18T07:41:40.781086Z"
    }
   },
   "outputs": [],
   "source": [
    "# env.close()"
   ]
  },
  {
   "cell_type": "markdown",
   "metadata": {},
   "source": [
    "### 4. It's Your Turn!\n",
    "\n",
    "Now it's your turn to train your own agent to solve the environment!  When training the environment, set `train_mode=True`, so that the line for resetting the environment looks like the following:\n",
    "```python\n",
    "env_info = env.reset(train_mode=True)[brain_name]\n",
    "```"
   ]
  },
  {
   "cell_type": "markdown",
   "metadata": {},
   "source": [
    "# Exercise"
   ]
  },
  {
   "cell_type": "markdown",
   "metadata": {},
   "source": [
    "## Train an agent"
   ]
  },
  {
   "cell_type": "code",
   "execution_count": 7,
   "metadata": {
    "ExecuteTime": {
     "end_time": "2019-03-18T07:41:42.121296Z",
     "start_time": "2019-03-18T07:41:40.890574Z"
    }
   },
   "outputs": [],
   "source": [
    "from collections import deque\n",
    "import torch"
   ]
  },
  {
   "cell_type": "code",
   "execution_count": 8,
   "metadata": {
    "ExecuteTime": {
     "end_time": "2019-03-18T07:41:42.140584Z",
     "start_time": "2019-03-18T07:41:42.123697Z"
    }
   },
   "outputs": [],
   "source": [
    "def dqn(agent,\n",
    "        n_episodes=5000,\n",
    "        max_time_step=1000,\n",
    "        eps_start=1.0,\n",
    "        eps_end=0.01,\n",
    "        eps_decay=0.996,\n",
    "        is_train=True,\n",
    "        thresh_hold=13.0):\n",
    "\n",
    "    # score list for plot\n",
    "    scores = []\n",
    "    average_scores = []\n",
    "    average_denominator = 100\n",
    "    # the recent 100 scores for calculate the average score\n",
    "    recent_scores = deque(maxlen=average_denominator)\n",
    "    eps = eps_start\n",
    "\n",
    "    for i_episode in range(1, n_episodes + 1):\n",
    "        \n",
    "        # reset environment information\n",
    "        env_info = env.reset(train_mode=is_train)[brain_name]\n",
    "        \n",
    "        # initialize state and score\n",
    "        state = env_info.vector_observations[0]\n",
    "        score = 0\n",
    "\n",
    "        # roll over\n",
    "        for t in range(max_time_step):\n",
    "            # choose action\n",
    "            if is_train:\n",
    "                action = agent.act(state, eps)\n",
    "            else:\n",
    "                action = agent.act(state, 0.0)\n",
    "            # update envirinment by the action\n",
    "            env_info = env.step(action)[brain_name]\n",
    "            # update next_state\n",
    "            next_state = env_info.vector_observations[0]\n",
    "            # update reward\n",
    "            reward = env_info.rewards[0]\n",
    "            # check the episode is fininshed\n",
    "            done = env_info.local_done[0]\n",
    "            # make the agent step\n",
    "            if is_train:\n",
    "                agent.step(state, action, reward, next_state, done)\n",
    "            # update score\n",
    "            score += reward\n",
    "            # update current state as next_state\n",
    "            state = next_state\n",
    "            # break if episode is finished\n",
    "            if done:\n",
    "                break\n",
    "\n",
    "        # append recent score\n",
    "        recent_scores.append(score)\n",
    "        average_score = np.mean(scores)\n",
    "        # append recent score\n",
    "        scores.append(score)\n",
    "        average_scores.append(average_score)\n",
    "        # update epsilon\n",
    "        eps = max(eps_end, eps_decay * eps)\n",
    "\n",
    "        # print\n",
    "        print(\n",
    "            \"\\r> i_episode: {:4d}\\taverage_score: {:.3f}\".format(\n",
    "                i_episode, average_score),\n",
    "            end=\"\")\n",
    "        if i_episode % average_denominator == 0:\n",
    "            print(\"\\r> i_episode: {:4d}\\taverage_score: {:.3f}\".format(\n",
    "                i_episode, average_score))\n",
    "\n",
    "        if average_score > thresh_hold:\n",
    "            print(\"\\n= completed in i_episode: {:4d}\\taverage_score: {:.3f}\".\n",
    "                  format(i_episode, average_score))\n",
    "\n",
    "            torch.save(agent.qnetwork_local.state_dict(),\n",
    "                       'checkpoint_agent.pth')\n",
    "            break\n",
    "    return scores, average_scores"
   ]
  },
  {
   "cell_type": "markdown",
   "metadata": {},
   "source": [
    "## Train the agent"
   ]
  },
  {
   "cell_type": "code",
   "execution_count": 9,
   "metadata": {
    "ExecuteTime": {
     "end_time": "2019-03-18T07:41:42.509726Z",
     "start_time": "2019-03-18T07:41:42.142750Z"
    }
   },
   "outputs": [],
   "source": [
    "from dqn_agent import Agent"
   ]
  },
  {
   "cell_type": "code",
   "execution_count": 10,
   "metadata": {
    "ExecuteTime": {
     "end_time": "2019-03-18T08:23:39.336126Z",
     "start_time": "2019-03-18T07:41:42.512149Z"
    }
   },
   "outputs": [
    {
     "name": "stderr",
     "output_type": "stream",
     "text": [
      "/root/anaconda3/envs/drlnd/lib/python3.6/site-packages/numpy/core/fromnumeric.py:2920: RuntimeWarning: Mean of empty slice.\n",
      "  out=out, **kwargs)\n",
      "/root/anaconda3/envs/drlnd/lib/python3.6/site-packages/numpy/core/_methods.py:85: RuntimeWarning: invalid value encountered in double_scalars\n",
      "  ret = ret.dtype.type(ret / rcount)\n"
     ]
    },
    {
     "name": "stdout",
     "output_type": "stream",
     "text": [
      "> i_episode:  100\taverage_score: 0.6979\n",
      "> i_episode:  200\taverage_score: 2.206\n",
      "> i_episode:  300\taverage_score: 3.619\n",
      "> i_episode:  400\taverage_score: 4.945\n",
      "> i_episode:  500\taverage_score: 6.425\n",
      "> i_episode:  600\taverage_score: 7.541\n",
      "> i_episode:  700\taverage_score: 8.577\n",
      "> i_episode:  800\taverage_score: 9.404\n",
      "> i_episode:  900\taverage_score: 10.128\n",
      "> i_episode: 1000\taverage_score: 10.656\n",
      "> i_episode: 1100\taverage_score: 11.126\n",
      "> i_episode: 1200\taverage_score: 11.526\n",
      "> i_episode: 1300\taverage_score: 11.852\n",
      "> i_episode: 1400\taverage_score: 12.154\n",
      "> i_episode: 1500\taverage_score: 12.406\n",
      "> i_episode: 1600\taverage_score: 12.624\n",
      "> i_episode: 1700\taverage_score: 12.796\n",
      "> i_episode: 1800\taverage_score: 12.928\n",
      "> i_episode: 1854\taverage_score: 13.001\n",
      "= completed in i_episode: 1854\taverage_score: 13.001\n"
     ]
    }
   ],
   "source": [
    "agent = Agent(state_size=state_size, action_size=action_size, seed=2)\n",
    "scores, avg_scores = dqn(agent)"
   ]
  },
  {
   "cell_type": "code",
   "execution_count": 11,
   "metadata": {
    "ExecuteTime": {
     "end_time": "2019-03-18T08:23:39.343726Z",
     "start_time": "2019-03-18T08:23:39.338600Z"
    }
   },
   "outputs": [],
   "source": [
    "env.close()"
   ]
  },
  {
   "cell_type": "markdown",
   "metadata": {},
   "source": [
    "## Plot the result"
   ]
  },
  {
   "cell_type": "code",
   "execution_count": 12,
   "metadata": {
    "ExecuteTime": {
     "end_time": "2019-03-18T08:23:40.350404Z",
     "start_time": "2019-03-18T08:23:39.345641Z"
    }
   },
   "outputs": [],
   "source": [
    "import matplotlib.pyplot as plt\n",
    "%matplotlib inline"
   ]
  },
  {
   "cell_type": "code",
   "execution_count": 13,
   "metadata": {
    "ExecuteTime": {
     "end_time": "2019-03-18T08:23:41.522834Z",
     "start_time": "2019-03-18T08:23:40.352862Z"
    }
   },
   "outputs": [
    {
     "data": {
      "image/png": "[encoded data removed]",
      "text/plain": [
       "<Figure size 1080x432 with 1 Axes>"
      ]
     },
     "metadata": {
      "needs_background": "light"
     },
     "output_type": "display_data"
    }
   ],
   "source": [
    "fig = plt.figure(figsize=(15, 6))\n",
    "ax = fig.add_subplot(111)\n",
    "\n",
    "plt.plot(np.arange(len(scores)), scores, label='episode scores')\n",
    "plt.plot(np.arange(len(scores)), avg_scores,\n",
    "         label='avg scores of 100 recent episodes', linewidth=3)\n",
    "plt.ylabel('score')\n",
    "plt.xlabel('i_episode')\n",
    "\n",
    "ax.legend(fontsize=10)\n",
    "\n",
    "plt.show()"
   ]
  },
  {
   "cell_type": "code",
   "execution_count": null,
   "metadata": {},
   "outputs": [],
   "source": []
  }
 ],
 "metadata": {
  "kernelspec": {
   "display_name": "drlnd",
   "language": "python",
   "name": "drlnd"
  },
  "language_info": {
   "codemirror_mode": {
    "name": "ipython",
    "version": 3
   },
   "file_extension": ".py",
   "mimetype": "text/x-python",
   "name": "python",
   "nbconvert_exporter": "python",
   "pygments_lexer": "ipython3",
   "version": "3.6.8"
  },
  "toc": {
   "base_numbering": 1,
   "nav_menu": {},
   "number_sections": true,
   "sideBar": true,
   "skip_h1_title": false,
   "title_cell": "Table of Contents",
   "title_sidebar": "Contents",
   "toc_cell": false,
   "toc_position": {},
   "toc_section_display": true,
   "toc_window_display": false
  },
  "varInspector": {
   "cols": {
    "lenName": 16,
    "lenType": 16,
    "lenVar": 40
   },
   "kernels_config": {
    "python": {
     "delete_cmd_postfix": "",
     "delete_cmd_prefix": "del ",
     "library": "var_list.py",
     "varRefreshCmd": "print(var_dic_list())"
    },
    "r": {
     "delete_cmd_postfix": ") ",
     "delete_cmd_prefix": "rm(",
     "library": "var_list.r",
     "varRefreshCmd": "cat(var_dic_list()) "
    }
   },
   "types_to_exclude": [
    "module",
    "function",
    "builtin_function_or_method",
    "instance",
    "_Feature"
   ],
   "window_display": false
  }
 },
 "nbformat": 4,
 "nbformat_minor": 2
}
